{
  "nbformat": 4,
  "nbformat_minor": 0,
  "metadata": {
    "colab": {
      "name": "DV_Models_Comparison.ipynb",
      "provenance": [],
      "authorship_tag": "ABX9TyPMckOVA3grIKbqGIVvGEc/",
      "include_colab_link": true
    },
    "kernelspec": {
      "name": "python3",
      "display_name": "Python 3"
    },
    "language_info": {
      "name": "python"
    }
  },
  "cells": [
    {
      "cell_type": "markdown",
      "metadata": {
        "id": "view-in-github",
        "colab_type": "text"
      },
      "source": [
        "<a href=\"https://colab.research.google.com/github/mehulraj19/DV-project/blob/main/DV_Models_Comparison.ipynb\" target=\"_parent\"><img src=\"https://colab.research.google.com/assets/colab-badge.svg\" alt=\"Open In Colab\"/></a>"
      ]
    },
    {
      "cell_type": "code",
      "metadata": {
        "id": "CylWhaKnnH0Z"
      },
      "source": [
        "import pandas as pd\n",
        "import matplotlib.pyplot as plt"
      ],
      "execution_count": 40,
      "outputs": []
    },
    {
      "cell_type": "code",
      "metadata": {
        "colab": {
          "base_uri": "https://localhost:8080/",
          "height": 204
        },
        "id": "K55_A1cinRpj",
        "outputId": "e73faeed-2441-42ef-a569-a12b73bfa84e"
      },
      "source": [
        "df = pd.read_csv('covid.csv')\n",
        "df.head()"
      ],
      "execution_count": 41,
      "outputs": [
        {
          "output_type": "execute_result",
          "data": {
            "text/html": [
              "<div>\n",
              "<style scoped>\n",
              "    .dataframe tbody tr th:only-of-type {\n",
              "        vertical-align: middle;\n",
              "    }\n",
              "\n",
              "    .dataframe tbody tr th {\n",
              "        vertical-align: top;\n",
              "    }\n",
              "\n",
              "    .dataframe thead th {\n",
              "        text-align: right;\n",
              "    }\n",
              "</style>\n",
              "<table border=\"1\" class=\"dataframe\">\n",
              "  <thead>\n",
              "    <tr style=\"text-align: right;\">\n",
              "      <th></th>\n",
              "      <th>Unnamed: 0</th>\n",
              "      <th>ObservationDate</th>\n",
              "      <th>Confirmed</th>\n",
              "      <th>Deaths</th>\n",
              "      <th>Recovered</th>\n",
              "    </tr>\n",
              "  </thead>\n",
              "  <tbody>\n",
              "    <tr>\n",
              "      <th>0</th>\n",
              "      <td>01-01-2021</td>\n",
              "      <td>01/22/2020</td>\n",
              "      <td>84054370</td>\n",
              "      <td>1835216</td>\n",
              "      <td>47313005</td>\n",
              "    </tr>\n",
              "    <tr>\n",
              "      <th>1</th>\n",
              "      <td>01-02-2021</td>\n",
              "      <td>01/23/2020</td>\n",
              "      <td>84679917</td>\n",
              "      <td>1843620</td>\n",
              "      <td>47614297</td>\n",
              "    </tr>\n",
              "    <tr>\n",
              "      <th>2</th>\n",
              "      <td>01-03-2021</td>\n",
              "      <td>01/24/2020</td>\n",
              "      <td>85212884</td>\n",
              "      <td>1850931</td>\n",
              "      <td>47882779</td>\n",
              "    </tr>\n",
              "    <tr>\n",
              "      <th>3</th>\n",
              "      <td>01-04-2021</td>\n",
              "      <td>01/25/2020</td>\n",
              "      <td>85766126</td>\n",
              "      <td>1861107</td>\n",
              "      <td>48173187</td>\n",
              "    </tr>\n",
              "    <tr>\n",
              "      <th>4</th>\n",
              "      <td>01-05-2021</td>\n",
              "      <td>01/26/2020</td>\n",
              "      <td>86504791</td>\n",
              "      <td>1876406</td>\n",
              "      <td>48488548</td>\n",
              "    </tr>\n",
              "  </tbody>\n",
              "</table>\n",
              "</div>"
            ],
            "text/plain": [
              "   Unnamed: 0 ObservationDate  Confirmed   Deaths  Recovered\n",
              "0  01-01-2021      01/22/2020   84054370  1835216   47313005\n",
              "1  01-02-2021      01/23/2020   84679917  1843620   47614297\n",
              "2  01-03-2021      01/24/2020   85212884  1850931   47882779\n",
              "3  01-04-2021      01/25/2020   85766126  1861107   48173187\n",
              "4  01-05-2021      01/26/2020   86504791  1876406   48488548"
            ]
          },
          "metadata": {
            "tags": []
          },
          "execution_count": 41
        }
      ]
    },
    {
      "cell_type": "code",
      "metadata": {
        "id": "Lq1k32PAnbFg"
      },
      "source": [
        "df1 = df[['ObservationDate', 'Confirmed', 'Deaths', 'Recovered']]"
      ],
      "execution_count": 4,
      "outputs": []
    },
    {
      "cell_type": "code",
      "metadata": {
        "id": "duUWikasnePQ"
      },
      "source": [
        "## prepare the Column names for the columns\n",
        "df_confirmed = df1[['ObservationDate',  'Confirmed']]\n",
        "df_confirmed.columns = ['ds', 'y']\n",
        "\n",
        "df_deaths = df1[['ObservationDate',  'Deaths']]\n",
        "df_deaths.columns = ['ds', 'y']\n",
        "\n",
        "df_recovered = df1[['ObservationDate',  'Recovered']]\n",
        "df_recovered.columns = ['ds', 'y']"
      ],
      "execution_count": 5,
      "outputs": []
    },
    {
      "cell_type": "code",
      "metadata": {
        "colab": {
          "base_uri": "https://localhost:8080/"
        },
        "id": "T3vol6sQngVR",
        "outputId": "bfe93d05-a3ff-4eaf-97ef-b82b3d1bbb2e"
      },
      "source": [
        "df_confirmed['ds'] = pd.to_datetime(df_confirmed['ds'])\n",
        "df_deaths['ds'] = pd.to_datetime(df_deaths['ds'])\n",
        "df_recovered['ds'] = pd.to_datetime(df_recovered['ds'])"
      ],
      "execution_count": 6,
      "outputs": [
        {
          "output_type": "stream",
          "text": [
            "/usr/local/lib/python3.7/dist-packages/ipykernel_launcher.py:1: SettingWithCopyWarning: \n",
            "A value is trying to be set on a copy of a slice from a DataFrame.\n",
            "Try using .loc[row_indexer,col_indexer] = value instead\n",
            "\n",
            "See the caveats in the documentation: https://pandas.pydata.org/pandas-docs/stable/user_guide/indexing.html#returning-a-view-versus-a-copy\n",
            "  \"\"\"Entry point for launching an IPython kernel.\n",
            "/usr/local/lib/python3.7/dist-packages/ipykernel_launcher.py:2: SettingWithCopyWarning: \n",
            "A value is trying to be set on a copy of a slice from a DataFrame.\n",
            "Try using .loc[row_indexer,col_indexer] = value instead\n",
            "\n",
            "See the caveats in the documentation: https://pandas.pydata.org/pandas-docs/stable/user_guide/indexing.html#returning-a-view-versus-a-copy\n",
            "  \n",
            "/usr/local/lib/python3.7/dist-packages/ipykernel_launcher.py:3: SettingWithCopyWarning: \n",
            "A value is trying to be set on a copy of a slice from a DataFrame.\n",
            "Try using .loc[row_indexer,col_indexer] = value instead\n",
            "\n",
            "See the caveats in the documentation: https://pandas.pydata.org/pandas-docs/stable/user_guide/indexing.html#returning-a-view-versus-a-copy\n",
            "  This is separate from the ipykernel package so we can avoid doing imports until\n"
          ],
          "name": "stderr"
        }
      ]
    },
    {
      "cell_type": "code",
      "metadata": {
        "id": "XyJJSjf1njVw"
      },
      "source": [
        "from fbprophet import Prophet"
      ],
      "execution_count": 7,
      "outputs": []
    },
    {
      "cell_type": "code",
      "metadata": {
        "id": "-HFDG7Xgnph4"
      },
      "source": [
        "model_confirmed = Prophet()\n",
        "model_deaths = Prophet()\n",
        "model_recovered = Prophet()"
      ],
      "execution_count": 8,
      "outputs": []
    },
    {
      "cell_type": "code",
      "metadata": {
        "id": "-vPRFtjonrNg"
      },
      "source": [
        "df_confirmed.shape\n",
        "y_confirmed_train = df_confirmed[:320]\n",
        "y_confirmed_test = df_confirmed[320:]"
      ],
      "execution_count": 13,
      "outputs": []
    },
    {
      "cell_type": "code",
      "metadata": {
        "id": "Tu9Ssuorntge"
      },
      "source": [
        "df_deaths.shape\n",
        "y_deaths_train = df_deaths[:320]\n",
        "y_deaths_test = df_deaths[320:]"
      ],
      "execution_count": 14,
      "outputs": []
    },
    {
      "cell_type": "code",
      "metadata": {
        "id": "lZy1PENQooqW"
      },
      "source": [
        "df_recovered.shape\n",
        "y_recovered_train = df_recovered[:320]\n",
        "y_recovered_test = df_recovered[320:]"
      ],
      "execution_count": 18,
      "outputs": []
    },
    {
      "cell_type": "code",
      "metadata": {
        "colab": {
          "base_uri": "https://localhost:8080/"
        },
        "id": "56O6Y_Uzo1VI",
        "outputId": "f5e63857-3383-4de3-eb9f-07e56d9e0b16"
      },
      "source": [
        "model_confirmed.fit(y_confirmed_train)\n",
        "model_deaths.fit(y_deaths_train)\n",
        "model_recovered.fit(y_recovered_train)"
      ],
      "execution_count": 19,
      "outputs": [
        {
          "output_type": "stream",
          "text": [
            "INFO:numexpr.utils:NumExpr defaulting to 2 threads.\n",
            "INFO:fbprophet:Disabling yearly seasonality. Run prophet with yearly_seasonality=True to override this.\n",
            "INFO:fbprophet:Disabling daily seasonality. Run prophet with daily_seasonality=True to override this.\n",
            "INFO:fbprophet:Disabling yearly seasonality. Run prophet with yearly_seasonality=True to override this.\n",
            "INFO:fbprophet:Disabling daily seasonality. Run prophet with daily_seasonality=True to override this.\n",
            "INFO:fbprophet:Disabling yearly seasonality. Run prophet with yearly_seasonality=True to override this.\n",
            "INFO:fbprophet:Disabling daily seasonality. Run prophet with daily_seasonality=True to override this.\n"
          ],
          "name": "stderr"
        },
        {
          "output_type": "execute_result",
          "data": {
            "text/plain": [
              "<fbprophet.forecaster.Prophet at 0x7fa9c8f6a150>"
            ]
          },
          "metadata": {
            "tags": []
          },
          "execution_count": 19
        }
      ]
    },
    {
      "cell_type": "code",
      "metadata": {
        "id": "dqes2VCjpMFS"
      },
      "source": [
        "f_confirmed = model_confirmed.predict(y_confirmed_test)\n",
        "f_deaths = model_deaths.predict(y_deaths_test)\n",
        "f_recovered = model_recovered.predict(y_recovered_test)"
      ],
      "execution_count": 21,
      "outputs": []
    },
    {
      "cell_type": "code",
      "metadata": {
        "id": "pBm5RJWSpYlA"
      },
      "source": [
        "from sklearn.metrics import mean_squared_error as mse"
      ],
      "execution_count": 52,
      "outputs": []
    },
    {
      "cell_type": "code",
      "metadata": {
        "colab": {
          "base_uri": "https://localhost:8080/"
        },
        "id": "N9SviSOLpyJQ",
        "outputId": "56f62b6c-1cb0-435b-d6e6-965eae7cfb1e"
      },
      "source": [
        "expected = y_confirmed_test['y']\n",
        "predictions = f_confirmed['yhat']\n",
        "res = mse(expected, predictions)\n",
        "res ** -2"
      ],
      "execution_count": 59,
      "outputs": [
        {
          "output_type": "execute_result",
          "data": {
            "text/plain": [
              "1.3907517636500423e-30"
            ]
          },
          "metadata": {
            "tags": []
          },
          "execution_count": 59
        }
      ]
    },
    {
      "cell_type": "code",
      "metadata": {
        "colab": {
          "base_uri": "https://localhost:8080/"
        },
        "id": "rMaaYwMAp7co",
        "outputId": "f555fe16-d741-4ae1-d2fc-beeb6c1dcc02"
      },
      "source": [
        "print(265235.8321586525 > 1.3907517636500423e-30)"
      ],
      "execution_count": 61,
      "outputs": [
        {
          "output_type": "stream",
          "text": [
            "True\n"
          ],
          "name": "stdout"
        }
      ]
    },
    {
      "cell_type": "code",
      "metadata": {
        "colab": {
          "base_uri": "https://localhost:8080/"
        },
        "id": "-DxRQ7NduS6Y",
        "outputId": "e5317a55-a132-4895-9d56-ce8f26a53658"
      },
      "source": [
        "expected = y_deaths_test['y']\n",
        "predictions = f_deaths['yhat']\n",
        "res = mse(expected, predictions)\n",
        "res ** -2"
      ],
      "execution_count": 62,
      "outputs": [
        {
          "output_type": "execute_result",
          "data": {
            "text/plain": [
              "5.856444288436285e-23"
            ]
          },
          "metadata": {
            "tags": []
          },
          "execution_count": 62
        }
      ]
    },
    {
      "cell_type": "code",
      "metadata": {
        "colab": {
          "base_uri": "https://localhost:8080/"
        },
        "id": "qLrrrBbDuh0X",
        "outputId": "29f44ba0-b3d0-4dcf-bcdc-55f381c71225"
      },
      "source": [
        "print(4270.189938064648 > 5.856444288436285e-23)"
      ],
      "execution_count": 63,
      "outputs": [
        {
          "output_type": "stream",
          "text": [
            "True\n"
          ],
          "name": "stdout"
        }
      ]
    },
    {
      "cell_type": "code",
      "metadata": {
        "colab": {
          "base_uri": "https://localhost:8080/"
        },
        "id": "LpoVk7yYumQo",
        "outputId": "7b32a83f-06d1-43e9-d4cb-1a05beefa464"
      },
      "source": [
        "expected = y_recovered_test['y']\n",
        "predictions = f_recovered['yhat']\n",
        "res = mse(expected, predictions)\n",
        "res ** -2"
      ],
      "execution_count": 64,
      "outputs": [
        {
          "output_type": "execute_result",
          "data": {
            "text/plain": [
              "1.8973104098810267e-29"
            ]
          },
          "metadata": {
            "tags": []
          },
          "execution_count": 64
        }
      ]
    },
    {
      "cell_type": "code",
      "metadata": {
        "colab": {
          "base_uri": "https://localhost:8080/"
        },
        "id": "eBOJMy08uqlQ",
        "outputId": "39f2202e-49a2-462d-862d-4604d46b1c6f"
      },
      "source": [
        "print(727840.5443710223> 1.8973104098810267e-29)"
      ],
      "execution_count": 66,
      "outputs": [
        {
          "output_type": "stream",
          "text": [
            "True\n"
          ],
          "name": "stdout"
        }
      ]
    },
    {
      "cell_type": "code",
      "metadata": {
        "id": "qe6Ma8uuuwMg"
      },
      "source": [
        ""
      ],
      "execution_count": null,
      "outputs": []
    }
  ]
}